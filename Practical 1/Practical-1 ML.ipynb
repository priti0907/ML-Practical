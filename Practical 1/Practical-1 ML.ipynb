{
 "cells": [
  {
   "cell_type": "code",
   "execution_count": 1,
   "id": "hungarian-welcome",
   "metadata": {},
   "outputs": [],
   "source": [
    "# We have imported numpy and pandas libraries.Numpy library is used for handling numbers and pandas is used for handling datasets.\n",
    "# we have imported SimpleImputer library which is used for imputing(assigning) to missing values"
   ]
  },
  {
   "cell_type": "code",
   "execution_count": 2,
   "id": "terminal-steering",
   "metadata": {},
   "outputs": [],
   "source": [
    "import numpy as np\n",
    "import pandas as pd\n",
    "from sklearn.impute import SimpleImputer\n",
    "from sklearn.preprocessing import LabelEncoder, OneHotEncoder"
   ]
  },
  {
   "cell_type": "code",
   "execution_count": 3,
   "id": "hollywood-consent",
   "metadata": {},
   "outputs": [],
   "source": [
    "#We have assigned a csv file(sample.csv) to the data variable and printed the value of data"
   ]
  },
  {
   "cell_type": "code",
   "execution_count": 4,
   "id": "weekly-species",
   "metadata": {},
   "outputs": [
    {
     "data": {
      "text/html": [
       "<div>\n",
       "<style scoped>\n",
       "    .dataframe tbody tr th:only-of-type {\n",
       "        vertical-align: middle;\n",
       "    }\n",
       "\n",
       "    .dataframe tbody tr th {\n",
       "        vertical-align: top;\n",
       "    }\n",
       "\n",
       "    .dataframe thead th {\n",
       "        text-align: right;\n",
       "    }\n",
       "</style>\n",
       "<table border=\"1\" class=\"dataframe\">\n",
       "  <thead>\n",
       "    <tr style=\"text-align: right;\">\n",
       "      <th></th>\n",
       "      <th>Region</th>\n",
       "      <th>Age</th>\n",
       "      <th>Income</th>\n",
       "      <th>Online Shopper</th>\n",
       "    </tr>\n",
       "  </thead>\n",
       "  <tbody>\n",
       "    <tr>\n",
       "      <th>0</th>\n",
       "      <td>India</td>\n",
       "      <td>49.0</td>\n",
       "      <td>45000.0</td>\n",
       "      <td>Yes</td>\n",
       "    </tr>\n",
       "    <tr>\n",
       "      <th>1</th>\n",
       "      <td>Brazil</td>\n",
       "      <td>48.0</td>\n",
       "      <td>80000.0</td>\n",
       "      <td>No</td>\n",
       "    </tr>\n",
       "    <tr>\n",
       "      <th>2</th>\n",
       "      <td>USA</td>\n",
       "      <td>35.0</td>\n",
       "      <td>56600.0</td>\n",
       "      <td>Yes</td>\n",
       "    </tr>\n",
       "    <tr>\n",
       "      <th>3</th>\n",
       "      <td>India</td>\n",
       "      <td>30.0</td>\n",
       "      <td>NaN</td>\n",
       "      <td>No</td>\n",
       "    </tr>\n",
       "    <tr>\n",
       "      <th>4</th>\n",
       "      <td>USA</td>\n",
       "      <td>NaN</td>\n",
       "      <td>45120.0</td>\n",
       "      <td>Yes</td>\n",
       "    </tr>\n",
       "    <tr>\n",
       "      <th>5</th>\n",
       "      <td>Brazil</td>\n",
       "      <td>39.0</td>\n",
       "      <td>24570.0</td>\n",
       "      <td>No</td>\n",
       "    </tr>\n",
       "    <tr>\n",
       "      <th>6</th>\n",
       "      <td>India</td>\n",
       "      <td>46.0</td>\n",
       "      <td>59520.0</td>\n",
       "      <td>No</td>\n",
       "    </tr>\n",
       "    <tr>\n",
       "      <th>7</th>\n",
       "      <td>Brazil</td>\n",
       "      <td>50.0</td>\n",
       "      <td>53254.0</td>\n",
       "      <td>Yes</td>\n",
       "    </tr>\n",
       "    <tr>\n",
       "      <th>8</th>\n",
       "      <td>India</td>\n",
       "      <td>38.0</td>\n",
       "      <td>78546.0</td>\n",
       "      <td>Yes</td>\n",
       "    </tr>\n",
       "  </tbody>\n",
       "</table>\n",
       "</div>"
      ],
      "text/plain": [
       "   Region   Age   Income Online Shopper\n",
       "0   India  49.0  45000.0            Yes\n",
       "1  Brazil  48.0  80000.0             No\n",
       "2     USA  35.0  56600.0            Yes\n",
       "3   India  30.0      NaN             No\n",
       "4     USA   NaN  45120.0            Yes\n",
       "5  Brazil  39.0  24570.0             No\n",
       "6   India  46.0  59520.0             No\n",
       "7  Brazil  50.0  53254.0            Yes\n",
       "8   India  38.0  78546.0            Yes"
      ]
     },
     "execution_count": 4,
     "metadata": {},
     "output_type": "execute_result"
    }
   ],
   "source": [
    "data = pd.read_csv(\"Desktop/sample.csv\")\n",
    "data"
   ]
  },
  {
   "cell_type": "code",
   "execution_count": 5,
   "id": "conditional-wayne",
   "metadata": {},
   "outputs": [],
   "source": [
    "#We have used iloc() function which enables us to select a particular cell of the dataset\n",
    "#for x variable we have taken first 3 columns and all the rows of our table\n",
    "#for y variable we have taken all the rows of the last column only"
   ]
  },
  {
   "cell_type": "code",
   "execution_count": 6,
   "id": "south-allocation",
   "metadata": {},
   "outputs": [
    {
     "data": {
      "text/plain": [
       "numpy.ndarray"
      ]
     },
     "execution_count": 6,
     "metadata": {},
     "output_type": "execute_result"
    }
   ],
   "source": [
    "x=data.iloc[:,[0,1,2]].values\n",
    "y=data.iloc[:,3].values\n",
    "type(x)"
   ]
  },
  {
   "cell_type": "code",
   "execution_count": 7,
   "id": "domestic-honduras",
   "metadata": {},
   "outputs": [],
   "source": [
    "# Now SimpleImputer function is used for the cells where there are no values are assigned a value \n",
    "# We have used mean strategy to assign values to the cells having Nan value"
   ]
  },
  {
   "cell_type": "code",
   "execution_count": 9,
   "id": "legendary-procedure",
   "metadata": {},
   "outputs": [
    {
     "data": {
      "text/plain": [
       "(array([['India', 49.0, 45000.0],\n",
       "        ['Brazil', 48.0, 80000.0],\n",
       "        ['USA', 35.0, 56600.0],\n",
       "        ['India', 30.0, 54927.0],\n",
       "        ['USA', 42.5, 45120.0],\n",
       "        ['Brazil', 39.0, 24570.0],\n",
       "        ['India', 46.0, 59520.0],\n",
       "        ['Brazil', 50.0, 53254.0],\n",
       "        ['India', 38.0, 78546.0]], dtype=object),\n",
       " array(['Yes', 'No', 'Yes', 'No', 'Yes', 'No', 'No', 'Yes', 'Yes'],\n",
       "       dtype=object))"
      ]
     },
     "execution_count": 9,
     "metadata": {},
     "output_type": "execute_result"
    }
   ],
   "source": [
    "imputer = SimpleImputer(missing_values = np.nan,strategy=\"mean\")\n",
    "imputer.fit(x[:,1:3])\n",
    "x[:,1:3] = imputer.transform(x[:,1:3])\n",
    "x,y"
   ]
  },
  {
   "cell_type": "code",
   "execution_count": null,
   "id": "detected-division",
   "metadata": {},
   "outputs": [],
   "source": []
  }
 ],
 "metadata": {
  "kernelspec": {
   "display_name": "Python 3",
   "language": "python",
   "name": "python3"
  },
  "language_info": {
   "codemirror_mode": {
    "name": "ipython",
    "version": 3
   },
   "file_extension": ".py",
   "mimetype": "text/x-python",
   "name": "python",
   "nbconvert_exporter": "python",
   "pygments_lexer": "ipython3",
   "version": "3.9.0"
  }
 },
 "nbformat": 4,
 "nbformat_minor": 5
}
