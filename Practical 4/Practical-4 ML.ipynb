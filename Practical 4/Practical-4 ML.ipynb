{
 "cells": [
  {
   "cell_type": "code",
   "execution_count": 1,
   "id": "ambient-hindu",
   "metadata": {},
   "outputs": [],
   "source": [
    "# Implement Support Vector Machine "
   ]
  },
  {
   "cell_type": "code",
   "execution_count": 2,
   "id": "cleared-humanity",
   "metadata": {},
   "outputs": [],
   "source": [
    "# We have imported numpy libraries.\n",
    "# We have imported pyplot from matplotlib library which is used for creating a plotting area for plotting graph."
   ]
  },
  {
   "cell_type": "code",
   "execution_count": 3,
   "id": "christian-presence",
   "metadata": {},
   "outputs": [],
   "source": [
    "import numpy as np\n",
    "import matplotlib.pyplot as plt\n",
    "from sklearn.datasets import load_digits\n",
    "from sklearn.svm import SVC\n",
    "from sklearn.metrics import accuracy_score\n",
    "from sklearn.model_selection import cross_val_score\n",
    "from sklearn.model_selection import train_test_split"
   ]
  },
  {
   "cell_type": "code",
   "execution_count": 4,
   "id": "arabic-press",
   "metadata": {},
   "outputs": [],
   "source": [
    "# We have conduct loading digit dataset for output"
   ]
  },
  {
   "cell_type": "code",
   "execution_count": 5,
   "id": "valuable-brother",
   "metadata": {},
   "outputs": [
    {
     "data": {
      "text/plain": [
       "['DESCR', 'data', 'feature_names', 'frame', 'images', 'target', 'target_names']"
      ]
     },
     "execution_count": 5,
     "metadata": {},
     "output_type": "execute_result"
    }
   ],
   "source": [
    "digits = load_digits()\n",
    "dir(digits)"
   ]
  },
  {
   "cell_type": "code",
   "execution_count": 6,
   "id": "collect-robin",
   "metadata": {},
   "outputs": [],
   "source": [
    "# Here data in digits dataset"
   ]
  },
  {
   "cell_type": "code",
   "execution_count": 7,
   "id": "widespread-willow",
   "metadata": {},
   "outputs": [
    {
     "name": "stdout",
     "output_type": "stream",
     "text": [
      "Digits data  [[ 0.  0.  5. ...  0.  0.  0.]\n",
      " [ 0.  0.  0. ... 10.  0.  0.]\n",
      " [ 0.  0.  0. ... 16.  9.  0.]\n",
      " ...\n",
      " [ 0.  0.  1. ...  6.  0.  0.]\n",
      " [ 0.  0.  2. ... 12.  0.  0.]\n",
      " [ 0.  0. 10. ... 12.  1.  0.]]\n"
     ]
    }
   ],
   "source": [
    "print(\"Digits data \", digits.data)"
   ]
  },
  {
   "cell_type": "code",
   "execution_count": 8,
   "id": "happy-boost",
   "metadata": {},
   "outputs": [],
   "source": [
    "# Here target in digits dataset"
   ]
  },
  {
   "cell_type": "code",
   "execution_count": 9,
   "id": "square-external",
   "metadata": {},
   "outputs": [
    {
     "name": "stdout",
     "output_type": "stream",
     "text": [
      "Digits target  [0 1 2 ... 8 9 8]\n"
     ]
    }
   ],
   "source": [
    "print(\"Digits target \", digits.target)"
   ]
  },
  {
   "cell_type": "code",
   "execution_count": 10,
   "id": "biological-vision",
   "metadata": {},
   "outputs": [],
   "source": [
    "# here images in digits dataset"
   ]
  },
  {
   "cell_type": "code",
   "execution_count": 11,
   "id": "nervous-fundamental",
   "metadata": {},
   "outputs": [
    {
     "name": "stdout",
     "output_type": "stream",
     "text": [
      "digits images  [[ 0.  0.  5. 13.  9.  1.  0.  0.]\n",
      " [ 0.  0. 13. 15. 10. 15.  5.  0.]\n",
      " [ 0.  3. 15.  2.  0. 11.  8.  0.]\n",
      " [ 0.  4. 12.  0.  0.  8.  8.  0.]\n",
      " [ 0.  5.  8.  0.  0.  9.  8.  0.]\n",
      " [ 0.  4. 11.  0.  1. 12.  7.  0.]\n",
      " [ 0.  2. 14.  5. 10. 12.  0.  0.]\n",
      " [ 0.  0.  6. 13. 10.  0.  0.  0.]]\n"
     ]
    }
   ],
   "source": [
    "print(\"digits images \" ,digits.images[0])"
   ]
  },
  {
   "cell_type": "code",
   "execution_count": 12,
   "id": "interpreted-particle",
   "metadata": {},
   "outputs": [
    {
     "name": "stdout",
     "output_type": "stream",
     "text": [
      "1797\n"
     ]
    }
   ],
   "source": [
    "X,y = digits.data , digits.target\n",
    "print(len(digits.data))"
   ]
  },
  {
   "cell_type": "code",
   "execution_count": 13,
   "id": "reverse-contest",
   "metadata": {},
   "outputs": [],
   "source": [
    "#Applying SVC model in digit dataset \n",
    "#&nbsp; &nbsp; &nbsp; &nbsp; \n",
    "#assuming value of gamma= 0.001 & C=100"
   ]
  },
  {
   "cell_type": "code",
   "execution_count": 14,
   "id": "jewish-avenue",
   "metadata": {},
   "outputs": [],
   "source": [
    "obj = SVC(gamma=0.001, C=100)"
   ]
  },
  {
   "cell_type": "code",
   "execution_count": 15,
   "id": "earned-columbus",
   "metadata": {},
   "outputs": [],
   "source": [
    "X_train, X_test, y_train,y_test = train_test_split(X,y, test_size = 0.2)"
   ]
  },
  {
   "cell_type": "code",
   "execution_count": 16,
   "id": "conditional-diesel",
   "metadata": {},
   "outputs": [
    {
     "data": {
      "text/plain": [
       "SVC(C=100, gamma=0.001)"
      ]
     },
     "execution_count": 16,
     "metadata": {},
     "output_type": "execute_result"
    }
   ],
   "source": [
    "obj.fit(X,y)"
   ]
  },
  {
   "cell_type": "code",
   "execution_count": 17,
   "id": "affecting-fossil",
   "metadata": {},
   "outputs": [
    {
     "data": {
      "text/plain": [
       "array([1])"
      ]
     },
     "execution_count": 17,
     "metadata": {},
     "output_type": "execute_result"
    }
   ],
   "source": [
    "obj.predict([digits.data[1]])"
   ]
  },
  {
   "cell_type": "code",
   "execution_count": 19,
   "id": "resident-devon",
   "metadata": {},
   "outputs": [],
   "source": [
    "# we have predicting some values here"
   ]
  },
  {
   "cell_type": "code",
   "execution_count": 20,
   "id": "pressed-engineer",
   "metadata": {},
   "outputs": [
    {
     "name": "stdout",
     "output_type": "stream",
     "text": [
      "Prediction :  [8]\n"
     ]
    },
    {
     "data": {
      "image/png": "[encoded data removed]",
      "text/plain": [
       "<Figure size 432x288 with 1 Axes>"
      ]
     },
     "metadata": {
      "needs_background": "light"
     },
     "output_type": "display_data"
    }
   ],
   "source": [
    "print(\"Prediction : \", obj.predict([digits.data[8]]))\n",
    "plt.imshow(digits.images[8], cmap=plt.cm.gray_r, interpolation=\"nearest\")\n",
    "plt.show()"
   ]
  },
  {
   "cell_type": "code",
   "execution_count": 21,
   "id": "military-gardening",
   "metadata": {},
   "outputs": [
    {
     "name": "stdout",
     "output_type": "stream",
     "text": [
      "Prediction :  [4]\n"
     ]
    },
    {
     "data": {
      "image/png": "[encoded data removed]",
      "text/plain": [
       "<Figure size 432x288 with 1 Axes>"
      ]
     },
     "metadata": {
      "needs_background": "light"
     },
     "output_type": "display_data"
    }
   ],
   "source": [
    "print(\"Prediction : \", obj.predict([digits.data[-6]]))\n",
    "plt.imshow(digits.images[-6], cmap=plt.cm.gray_r)\n",
    "plt.show()"
   ]
  },
  {
   "cell_type": "code",
   "execution_count": 22,
   "id": "developmental-merit",
   "metadata": {},
   "outputs": [],
   "source": [
    "# Now checking score of Cross validation & test data in dataset"
   ]
  },
  {
   "cell_type": "code",
   "execution_count": 23,
   "id": "tamil-engineer",
   "metadata": {},
   "outputs": [],
   "source": [
    "cv_performance = cross_val_score(obj, X_train, y_train,cv=10)"
   ]
  },
  {
   "cell_type": "code",
   "execution_count": 24,
   "id": "streaming-alliance",
   "metadata": {},
   "outputs": [],
   "source": [
    "test_performance = obj.fit(X_train, y_train).score(X_test,y_test)"
   ]
  },
  {
   "cell_type": "code",
   "execution_count": 25,
   "id": "respected-estimate",
   "metadata": {},
   "outputs": [],
   "source": [
    "# Accuracy of Cross validation & test data in dataset"
   ]
  },
  {
   "cell_type": "code",
   "execution_count": 26,
   "id": "corrected-longitude",
   "metadata": {},
   "outputs": [
    {
     "name": "stdout",
     "output_type": "stream",
     "text": [
      "Cross-validation accuracy score: 0.9924\n",
      "test accuracy score : 0.9861\n"
     ]
    }
   ],
   "source": [
    "print ('Cross-validation accuracy score: %0.4f'%(np.mean(cv_performance)))\n",
    "print ('test accuracy score : %0.4f' %(test_performance))"
   ]
  },
  {
   "cell_type": "code",
   "execution_count": null,
   "id": "proper-edition",
   "metadata": {},
   "outputs": [],
   "source": []
  }
 ],
 "metadata": {
  "kernelspec": {
   "display_name": "Python 3",
   "language": "python",
   "name": "python3"
  },
  "language_info": {
   "codemirror_mode": {
    "name": "ipython",
    "version": 3
   },
   "file_extension": ".py",
   "mimetype": "text/x-python",
   "name": "python",
   "nbconvert_exporter": "python",
   "pygments_lexer": "ipython3",
   "version": "3.9.0"
  }
 },
 "nbformat": 4,
 "nbformat_minor": 5
}
