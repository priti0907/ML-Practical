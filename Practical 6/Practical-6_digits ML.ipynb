{
 "cells": [
  {
   "cell_type": "code",
   "execution_count": 1,
   "id": "comparable-terminology",
   "metadata": {},
   "outputs": [],
   "source": [
    "# We have Importing libraries, Modules and Models"
   ]
  },
  {
   "cell_type": "code",
   "execution_count": 2,
   "id": "negative-shirt",
   "metadata": {},
   "outputs": [],
   "source": [
    "from sklearn.linear_model import LogisticRegression\n",
    "from sklearn.svm import SVC\n",
    "from sklearn.neighbors import KNeighborsClassifier\n",
    "from sklearn.datasets import load_digits\n",
    "digits = load_digits()"
   ]
  },
  {
   "cell_type": "code",
   "execution_count": 3,
   "id": "opponent-programming",
   "metadata": {},
   "outputs": [],
   "source": [
    "# We have split into  train test data and dividing data into train and test"
   ]
  },
  {
   "cell_type": "code",
   "execution_count": 4,
   "id": "genuine-marina",
   "metadata": {},
   "outputs": [],
   "source": [
    "from sklearn.model_selection import train_test_split\n",
    "x_train, x_test, y_train, y_test = train_test_split(digits.data, digits.target, test_size=0.3)"
   ]
  },
  {
   "cell_type": "code",
   "execution_count": 5,
   "id": "pregnant-terrorist",
   "metadata": {},
   "outputs": [],
   "source": [
    "# Now here Logistic Regression, Fitting data and score "
   ]
  },
  {
   "cell_type": "code",
   "execution_count": 6,
   "id": "civic-magnitude",
   "metadata": {},
   "outputs": [
    {
     "data": {
      "text/plain": [
       "0.9722222222222222"
      ]
     },
     "execution_count": 6,
     "metadata": {},
     "output_type": "execute_result"
    }
   ],
   "source": [
    "lr = LogisticRegression(max_iter=10000)\n",
    "lr.fit(x_train, y_train)\n",
    "lr.score(x_test, y_test)"
   ]
  },
  {
   "cell_type": "code",
   "execution_count": 7,
   "id": "sapphire-september",
   "metadata": {},
   "outputs": [],
   "source": [
    "# We have SVC, Fitting data and score of model"
   ]
  },
  {
   "cell_type": "code",
   "execution_count": 8,
   "id": "broadband-briefing",
   "metadata": {},
   "outputs": [
    {
     "data": {
      "text/plain": [
       "0.9888888888888889"
      ]
     },
     "execution_count": 8,
     "metadata": {},
     "output_type": "execute_result"
    }
   ],
   "source": [
    "svm =SVC()\n",
    "svm.fit(x_train, y_train)\n",
    "svm.score(x_test, y_test)"
   ]
  },
  {
   "cell_type": "code",
   "execution_count": 9,
   "id": "fewer-defeat",
   "metadata": {},
   "outputs": [],
   "source": [
    "# Now KNN Fitting data and score "
   ]
  },
  {
   "cell_type": "code",
   "execution_count": 10,
   "id": "based-monitor",
   "metadata": {},
   "outputs": [
    {
     "data": {
      "text/plain": [
       "0.9833333333333333"
      ]
     },
     "execution_count": 10,
     "metadata": {},
     "output_type": "execute_result"
    }
   ],
   "source": [
    "knn = KNeighborsClassifier()\n",
    "knn.fit(x_train, y_train)\n",
    "knn.score(x_test, y_test)"
   ]
  },
  {
   "cell_type": "code",
   "execution_count": 11,
   "id": "confident-melbourne",
   "metadata": {},
   "outputs": [],
   "source": [
    "# We have Importing KFold Validation"
   ]
  },
  {
   "cell_type": "code",
   "execution_count": 12,
   "id": "interesting-closing",
   "metadata": {},
   "outputs": [
    {
     "data": {
      "text/plain": [
       "KFold(n_splits=3, random_state=None, shuffle=False)"
      ]
     },
     "execution_count": 12,
     "metadata": {},
     "output_type": "execute_result"
    }
   ],
   "source": [
    "from sklearn.model_selection import KFold\n",
    "kf = KFold(n_splits=3)\n",
    "kf"
   ]
  },
  {
   "cell_type": "code",
   "execution_count": 13,
   "id": "environmental-census",
   "metadata": {},
   "outputs": [],
   "source": [
    "# We have Importing StratifiedKFold validation "
   ]
  },
  {
   "cell_type": "code",
   "execution_count": 14,
   "id": "secret-conclusion",
   "metadata": {},
   "outputs": [
    {
     "data": {
      "text/plain": [
       "StratifiedKFold(n_splits=3, random_state=None, shuffle=False)"
      ]
     },
     "execution_count": 14,
     "metadata": {},
     "output_type": "execute_result"
    }
   ],
   "source": [
    "from sklearn.model_selection import StratifiedKFold\n",
    "skf = StratifiedKFold(n_splits=3)\n",
    "skf"
   ]
  },
  {
   "cell_type": "code",
   "execution_count": 15,
   "id": "proof-chart",
   "metadata": {},
   "outputs": [],
   "source": [
    "# Now Fitting data into different modules and evaluating score of that model"
   ]
  },
  {
   "cell_type": "code",
   "execution_count": 16,
   "id": "still-platinum",
   "metadata": {},
   "outputs": [
    {
     "name": "stdout",
     "output_type": "stream",
     "text": [
      "Logistic Regression :  [0.9248747913188647, 0.9415692821368948, 0.9232053422370617]\n",
      "Support Vector Classifier :  [0.9649415692821369, 0.9799666110183639, 0.9649415692821369]\n",
      "K Nearest Neighbour :  [0.9582637729549248, 0.9632721202003339, 0.9666110183639399]\n"
     ]
    }
   ],
   "source": [
    "LR, SVC, KNN= [], [], []\n",
    "for train_index, test_index in skf.split(digits.data, digits.target):\n",
    "    x_train, x_test, y_train, y_test = digits.data[train_index],digits.data[test_index],digits.target[train_index],digits.target[test_index]\n",
    "    lr.fit(x_train, y_train)\n",
    "    LR.append(lr.score(x_test, y_test))\n",
    "    svm.fit(x_train, y_train)\n",
    "    SVC.append(svm.score(x_test, y_test))\n",
    "    knn.fit(x_train, y_train)\n",
    "    KNN.append(knn.score(x_test, y_test))\n",
    "print(\"Logistic Regression : \", LR)\n",
    "print(\"Support Vector Classifier : \", SVC)\n",
    "print(\"K Nearest Neighbour : \", KNN)"
   ]
  },
  {
   "cell_type": "code",
   "execution_count": 17,
   "id": "impressed-ministry",
   "metadata": {},
   "outputs": [],
   "source": [
    "# We have Importing function of cross validation score "
   ]
  },
  {
   "cell_type": "code",
   "execution_count": 18,
   "id": "following-boost",
   "metadata": {},
   "outputs": [],
   "source": [
    "from sklearn.model_selection import cross_val_score"
   ]
  },
  {
   "cell_type": "code",
   "execution_count": 19,
   "id": "written-revolution",
   "metadata": {},
   "outputs": [],
   "source": [
    "# Now we are Using cross_val_score with LR"
   ]
  },
  {
   "cell_type": "code",
   "execution_count": 20,
   "id": "skilled-gospel",
   "metadata": {},
   "outputs": [
    {
     "data": {
      "text/plain": [
       "array([0.925     , 0.87777778, 0.93871866, 0.93314763, 0.89693593])"
      ]
     },
     "execution_count": 20,
     "metadata": {},
     "output_type": "execute_result"
    }
   ],
   "source": [
    "cross_val_score(LogisticRegression(max_iter=10000),digits.data,digits.target)"
   ]
  },
  {
   "cell_type": "code",
   "execution_count": 21,
   "id": "liked-cooking",
   "metadata": {},
   "outputs": [],
   "source": [
    "# We have Using cross_val_score with SVC"
   ]
  },
  {
   "cell_type": "code",
   "execution_count": 22,
   "id": "systematic-munich",
   "metadata": {},
   "outputs": [
    {
     "data": {
      "text/plain": [
       "array([0.96111111, 0.94444444, 0.98328691, 0.98885794, 0.93871866])"
      ]
     },
     "execution_count": 22,
     "metadata": {},
     "output_type": "execute_result"
    }
   ],
   "source": [
    "cross_val_score(svm, digits.data, digits.target, cv=5)"
   ]
  },
  {
   "cell_type": "code",
   "execution_count": 23,
   "id": "exempt-acoustic",
   "metadata": {},
   "outputs": [],
   "source": [
    "# We have Using cross_val_score with KNN"
   ]
  },
  {
   "cell_type": "code",
   "execution_count": 24,
   "id": "distant-knowing",
   "metadata": {},
   "outputs": [
    {
     "data": {
      "text/plain": [
       "array([0.94722222, 0.95555556, 0.96657382, 0.98050139, 0.9637883 ])"
      ]
     },
     "execution_count": 24,
     "metadata": {},
     "output_type": "execute_result"
    }
   ],
   "source": [
    "cross_val_score(KNeighborsClassifier(), digits.data, digits.target)"
   ]
  },
  {
   "cell_type": "code",
   "execution_count": null,
   "id": "stable-technical",
   "metadata": {},
   "outputs": [],
   "source": []
  }
 ],
 "metadata": {
  "kernelspec": {
   "display_name": "Python 3",
   "language": "python",
   "name": "python3"
  },
  "language_info": {
   "codemirror_mode": {
    "name": "ipython",
    "version": 3
   },
   "file_extension": ".py",
   "mimetype": "text/x-python",
   "name": "python",
   "nbconvert_exporter": "python",
   "pygments_lexer": "ipython3",
   "version": "3.9.0"
  }
 },
 "nbformat": 4,
 "nbformat_minor": 5
}
