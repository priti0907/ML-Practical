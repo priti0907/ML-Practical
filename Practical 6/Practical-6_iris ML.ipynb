{
 "cells": [
  {
   "cell_type": "code",
   "execution_count": 1,
   "id": "sharp-detection",
   "metadata": {},
   "outputs": [],
   "source": [
    "# We have importing libraries, Modules and Models"
   ]
  },
  {
   "cell_type": "code",
   "execution_count": 2,
   "id": "occupied-corner",
   "metadata": {},
   "outputs": [],
   "source": [
    "from sklearn.linear_model import LogisticRegression\n",
    "from sklearn.svm import SVC\n",
    "from sklearn.neighbors import KNeighborsClassifier\n",
    "from sklearn.datasets import load_iris\n",
    "iris = load_iris()"
   ]
  },
  {
   "cell_type": "code",
   "execution_count": 3,
   "id": "confirmed-fellow",
   "metadata": {},
   "outputs": [],
   "source": [
    "# We have split into  train test data and dividing data into train and test"
   ]
  },
  {
   "cell_type": "code",
   "execution_count": 4,
   "id": "normal-subject",
   "metadata": {},
   "outputs": [],
   "source": [
    "from sklearn.model_selection import train_test_split\n",
    "x_train, x_test, y_train, y_test = train_test_split(iris.data, iris.target, test_size=0.3)"
   ]
  },
  {
   "cell_type": "code",
   "execution_count": 6,
   "id": "forbidden-development",
   "metadata": {},
   "outputs": [],
   "source": [
    "# Here we have logistic Regression, Fitting data and score"
   ]
  },
  {
   "cell_type": "code",
   "execution_count": 7,
   "id": "ambient-principal",
   "metadata": {},
   "outputs": [
    {
     "data": {
      "text/plain": [
       "0.9777777777777777"
      ]
     },
     "execution_count": 7,
     "metadata": {},
     "output_type": "execute_result"
    }
   ],
   "source": [
    "lr = LogisticRegression(max_iter=10000)\n",
    "lr.fit(x_train, y_train)\n",
    "lr.score(x_test, y_test)"
   ]
  },
  {
   "cell_type": "code",
   "execution_count": 8,
   "id": "hundred-currency",
   "metadata": {},
   "outputs": [],
   "source": [
    "# Here SVC Fitting a data and score"
   ]
  },
  {
   "cell_type": "code",
   "execution_count": 9,
   "id": "acknowledged-standard",
   "metadata": {},
   "outputs": [
    {
     "data": {
      "text/plain": [
       "0.9555555555555556"
      ]
     },
     "execution_count": 9,
     "metadata": {},
     "output_type": "execute_result"
    }
   ],
   "source": [
    "svm =SVC()\n",
    "svm.fit(x_train, y_train)\n",
    "svm.score(x_test, y_test)"
   ]
  },
  {
   "cell_type": "code",
   "execution_count": 10,
   "id": "indirect-frequency",
   "metadata": {},
   "outputs": [],
   "source": [
    "# Here KNN Fitting data and score "
   ]
  },
  {
   "cell_type": "code",
   "execution_count": 11,
   "id": "satisfied-webmaster",
   "metadata": {},
   "outputs": [
    {
     "data": {
      "text/plain": [
       "1.0"
      ]
     },
     "execution_count": 11,
     "metadata": {},
     "output_type": "execute_result"
    }
   ],
   "source": [
    "knn = KNeighborsClassifier()\n",
    "knn.fit(x_train, y_train)\n",
    "knn.score(x_test, y_test)"
   ]
  },
  {
   "cell_type": "code",
   "execution_count": 12,
   "id": "italic-colorado",
   "metadata": {},
   "outputs": [],
   "source": [
    "# We have importing KFold Validation module"
   ]
  },
  {
   "cell_type": "code",
   "execution_count": 13,
   "id": "tested-affairs",
   "metadata": {},
   "outputs": [
    {
     "data": {
      "text/plain": [
       "KFold(n_splits=3, random_state=None, shuffle=False)"
      ]
     },
     "execution_count": 13,
     "metadata": {},
     "output_type": "execute_result"
    }
   ],
   "source": [
    "from sklearn.model_selection import KFold\n",
    "kf = KFold(n_splits=3)\n",
    "kf"
   ]
  },
  {
   "cell_type": "code",
   "execution_count": 14,
   "id": "nuclear-compilation",
   "metadata": {},
   "outputs": [],
   "source": [
    "# We have importing StratifiedKFold validation module"
   ]
  },
  {
   "cell_type": "code",
   "execution_count": 15,
   "id": "terminal-queen",
   "metadata": {},
   "outputs": [
    {
     "data": {
      "text/plain": [
       "StratifiedKFold(n_splits=3, random_state=None, shuffle=False)"
      ]
     },
     "execution_count": 15,
     "metadata": {},
     "output_type": "execute_result"
    }
   ],
   "source": [
    "from sklearn.model_selection import StratifiedKFold\n",
    "skf = StratifiedKFold(n_splits=3)\n",
    "skf"
   ]
  },
  {
   "cell_type": "code",
   "execution_count": 16,
   "id": "finite-prague",
   "metadata": {},
   "outputs": [],
   "source": [
    "# Now Fitting data into different modules and evaluating score of that model"
   ]
  },
  {
   "cell_type": "code",
   "execution_count": 17,
   "id": "christian-service",
   "metadata": {},
   "outputs": [
    {
     "name": "stdout",
     "output_type": "stream",
     "text": [
      "Logistic Regression :  [0.98, 0.96, 0.98]\n",
      "Support Vector Classifier :  [0.96, 0.98, 0.94]\n",
      "K Nearest Neighbour :  [0.98, 0.98, 0.98]\n"
     ]
    }
   ],
   "source": [
    "LR, SVC, KNN= [], [], []\n",
    "for train_index, test_index in skf.split(iris.data, iris.target):\n",
    "    x_train, x_test, y_train, y_test = iris.data[train_index],iris.data[test_index],iris.target[train_index],iris.target[test_index]\n",
    "    lr.fit(x_train, y_train)\n",
    "    LR.append(lr.score(x_test, y_test))\n",
    "    svm.fit(x_train, y_train)\n",
    "    SVC.append(svm.score(x_test, y_test))\n",
    "    knn.fit(x_train, y_train)\n",
    "    KNN.append(knn.score(x_test, y_test))\n",
    "print(\"Logistic Regression : \", LR)\n",
    "print(\"Support Vector Classifier : \", SVC)\n",
    "print(\"K Nearest Neighbour : \", KNN)"
   ]
  },
  {
   "cell_type": "code",
   "execution_count": 18,
   "id": "medieval-cologne",
   "metadata": {},
   "outputs": [],
   "source": [
    "# We have importing function of cross validation score to  find score"
   ]
  },
  {
   "cell_type": "code",
   "execution_count": 19,
   "id": "weird-gathering",
   "metadata": {},
   "outputs": [],
   "source": [
    "from sklearn.model_selection import cross_val_score"
   ]
  },
  {
   "cell_type": "code",
   "execution_count": 20,
   "id": "careful-broadcast",
   "metadata": {},
   "outputs": [],
   "source": [
    "# Now we are using cross_val_score with LR"
   ]
  },
  {
   "cell_type": "code",
   "execution_count": 21,
   "id": "floppy-mauritius",
   "metadata": {},
   "outputs": [
    {
     "data": {
      "text/plain": [
       "array([0.96666667, 1.        , 0.93333333, 0.96666667, 1.        ])"
      ]
     },
     "execution_count": 21,
     "metadata": {},
     "output_type": "execute_result"
    }
   ],
   "source": [
    "cross_val_score(LogisticRegression(max_iter=10000),iris.data,iris.target)"
   ]
  },
  {
   "cell_type": "code",
   "execution_count": 22,
   "id": "fitted-quality",
   "metadata": {},
   "outputs": [],
   "source": [
    "# Here we are using cross_val_score with SVC"
   ]
  },
  {
   "cell_type": "code",
   "execution_count": 23,
   "id": "incident-twins",
   "metadata": {},
   "outputs": [
    {
     "data": {
      "text/plain": [
       "array([0.96666667, 0.96666667, 0.96666667, 0.93333333, 1.        ])"
      ]
     },
     "execution_count": 23,
     "metadata": {},
     "output_type": "execute_result"
    }
   ],
   "source": [
    "cross_val_score(svm, iris.data, iris.target, cv=5)"
   ]
  },
  {
   "cell_type": "code",
   "execution_count": 24,
   "id": "eleven-footage",
   "metadata": {},
   "outputs": [],
   "source": [
    "# We are Using cross_val_score with KNN"
   ]
  },
  {
   "cell_type": "code",
   "execution_count": 25,
   "id": "pregnant-heading",
   "metadata": {},
   "outputs": [
    {
     "data": {
      "text/plain": [
       "array([0.96666667, 1.        , 0.93333333, 0.96666667, 1.        ])"
      ]
     },
     "execution_count": 25,
     "metadata": {},
     "output_type": "execute_result"
    }
   ],
   "source": [
    "cross_val_score(KNeighborsClassifier(), iris.data, iris.target)"
   ]
  },
  {
   "cell_type": "code",
   "execution_count": null,
   "id": "christian-symposium",
   "metadata": {},
   "outputs": [],
   "source": []
  }
 ],
 "metadata": {
  "kernelspec": {
   "display_name": "Python 3",
   "language": "python",
   "name": "python3"
  },
  "language_info": {
   "codemirror_mode": {
    "name": "ipython",
    "version": 3
   },
   "file_extension": ".py",
   "mimetype": "text/x-python",
   "name": "python",
   "nbconvert_exporter": "python",
   "pygments_lexer": "ipython3",
   "version": "3.9.0"
  }
 },
 "nbformat": 4,
 "nbformat_minor": 5
}
